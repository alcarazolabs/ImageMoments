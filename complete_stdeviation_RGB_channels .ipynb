{
 "cells": [
  {
   "cell_type": "code",
   "execution_count": 25,
   "metadata": {
    "collapsed": true
   },
   "outputs": [],
   "source": [
    "#Author: Freddy Alcarazo\n",
    "#About it: Get the Standard Deviation of the three channels of one RGB image\n",
    "import cv2\n",
    "import numpy as np\n",
    "import matplotlib.pyplot as plt"
   ]
  },
  {
   "cell_type": "code",
   "execution_count": 26,
   "metadata": {
    "collapsed": true
   },
   "outputs": [],
   "source": [
    "image = cv2.imread('verde.jpg')\n",
    "r_channel = image.copy()\n",
    "g_channel = image.copy()\n",
    "b_channel = image.copy()"
   ]
  },
  {
   "cell_type": "code",
   "execution_count": 27,
   "metadata": {
    "collapsed": true
   },
   "outputs": [],
   "source": [
    "#Get red channel\n",
    "r_channel[:, :, 0] = 0 \n",
    "r_channel[:, :, 1] = 0\n",
    "#Get gree channel\n",
    "g_channel[:, :, 0] = 0\n",
    "g_channel[:, :, 2] = 0\n",
    "#Get blue channel\n",
    "b_channel[:, :, 1] = 0\n",
    "b_channel[:, :, 2] = 0"
   ]
  },
  {
   "cell_type": "code",
   "execution_count": 28,
   "metadata": {
    "collapsed": true
   },
   "outputs": [],
   "source": [
    "#Get the channels like arrays\n",
    "#R\n",
    "r_array = np.asarray(r_channel)\n",
    "#G\n",
    "g_array = np.asarray(g_channel)\n",
    "#B\n",
    "b_array = np.asarray(b_channel)"
   ]
  },
  {
   "cell_type": "code",
   "execution_count": 29,
   "metadata": {
    "collapsed": true
   },
   "outputs": [],
   "source": [
    "#Remove zeros that represents black pixels / background\n",
    "#R\n",
    "r_filtered = np.ma.masked_where(r_array == 0, r_array)\n",
    "#G\n",
    "g_filtered = np.ma.masked_where(g_array == 0, g_array)\n",
    "#B\n",
    "b_filtered = np.ma.masked_where(b_array == 0, b_array)"
   ]
  },
  {
   "cell_type": "code",
   "execution_count": 33,
   "metadata": {},
   "outputs": [],
   "source": [
    "#Compute the Standard Deviation for the 3 channels:\n",
    "r_std = np.std(r_filtered, ddof=1)\n",
    "g_std = np.std(g_filtered, ddof=1)\n",
    "b_std = np.std(b_filtered, ddof=1)"
   ]
  },
  {
   "cell_type": "code",
   "execution_count": 38,
   "metadata": {
    "collapsed": true
   },
   "outputs": [],
   "source": [
    "#Complete color mean for the R,G AND B channel one Image:\n",
    "rgb_std = []\n",
    "rgb_std = [r_std,g_std,b_std]"
   ]
  },
  {
   "cell_type": "code",
   "execution_count": 39,
   "metadata": {},
   "outputs": [
    {
     "name": "stdout",
     "output_type": "stream",
     "text": [
      "15.130551694264952\n",
      "17.60049074706298\n",
      "6.338310936819141\n"
     ]
    }
   ],
   "source": [
    "#Print color mean for R channel:\n",
    "print(rgb_std[0])\n",
    "#Print color mean for G channel:\n",
    "print(rgb_std[1])\n",
    "#Print color mean for B channel:\n",
    "print(rgb_std[2])"
   ]
  },
  {
   "cell_type": "code",
   "execution_count": 42,
   "metadata": {
    "collapsed": true
   },
   "outputs": [],
   "source": [
    "#Now that we have the mean of the three RGB components.. we can create one RGB and see the average color:\n",
    "blank_image = np.zeros((100,100,3), np.uint8)\n",
    "blank_image[:,0:100//2] = (15,17,6) # (B, G, R)\n",
    "blank_image[:,100//2:100] = (15,17,6) "
   ]
  },
  {
   "cell_type": "code",
   "execution_count": 43,
   "metadata": {},
   "outputs": [
    {
     "data": {
      "image/png": "[encoded data removed]",
      "text/plain": [
       "<Figure size 432x288 with 1 Axes>"
      ]
     },
     "metadata": {},
     "output_type": "display_data"
    }
   ],
   "source": [
    "plt.imshow(blank_image)\n",
    "plt.show()"
   ]
  },
  {
   "cell_type": "code",
   "execution_count": 49,
   "metadata": {
    "collapsed": true
   },
   "outputs": [],
   "source": [
    "#Haciendo lo mismo para un limon Sutil de clase Pinton:\n",
    "image = cv2.imread('pinton.jpg')\n",
    "r_channel = image.copy()\n",
    "g_channel = image.copy()\n",
    "b_channel = image.copy()"
   ]
  },
  {
   "cell_type": "code",
   "execution_count": 50,
   "metadata": {},
   "outputs": [
    {
     "name": "stdout",
     "output_type": "stream",
     "text": [
      "27.597787168201766\n",
      "28.16906705855273\n",
      "10.356863617837544\n"
     ]
    }
   ],
   "source": [
    "#Get red channel\n",
    "r_channel[:, :, 0] = 0 \n",
    "r_channel[:, :, 1] = 0\n",
    "#Get gree channel\n",
    "g_channel[:, :, 0] = 0\n",
    "g_channel[:, :, 2] = 0\n",
    "#Get blue channel\n",
    "b_channel[:, :, 1] = 0\n",
    "b_channel[:, :, 2] = 0\n",
    "\n",
    "#Get the channels like arrays\n",
    "#R\n",
    "r_array = np.asarray(r_channel)\n",
    "#G\n",
    "g_array = np.asarray(g_channel)\n",
    "#B\n",
    "b_array = np.asarray(b_channel)\n",
    "\n",
    "#Remove zeros that represents black pixels / background\n",
    "#R\n",
    "r_filtered = np.ma.masked_where(r_array == 0, r_array)\n",
    "#G\n",
    "g_filtered = np.ma.masked_where(g_array == 0, g_array)\n",
    "#B\n",
    "b_filtered = np.ma.masked_where(b_array == 0, b_array)\n",
    "\n",
    "#Compute the Standard Deviation for the 3 channels:\n",
    "r_std = np.std(r_filtered, ddof=1)\n",
    "g_std = np.std(g_filtered, ddof=1)\n",
    "b_std = np.std(b_filtered, ddof=1)\n",
    "\n",
    "#Complete std  for the R,G AND B channel one Image:\n",
    "rgb_std = []\n",
    "rgb_std = [r_std,g_std,b_std]\n",
    "\n",
    "#Print color mean for R channel:\n",
    "print(rgb_std[0])\n",
    "#Print color mean for G channel:\n",
    "print(rgb_std[1])\n",
    "#Print color mean for B channel:\n",
    "print(rgb_std[2])"
   ]
  },
  {
   "cell_type": "code",
   "execution_count": 51,
   "metadata": {
    "collapsed": true
   },
   "outputs": [],
   "source": [
    "#Creando Imagen de color promedo:\n",
    "blank_image = np.zeros((100,100,3), np.uint8)\n",
    "blank_image[:,0:100//2] = (27,28,10) # (B, G, R)\n",
    "blank_image[:,100//2:100] = (27,28,10) "
   ]
  },
  {
   "cell_type": "code",
   "execution_count": 52,
   "metadata": {},
   "outputs": [
    {
     "data": {
      "image/png": "[encoded data removed]",
      "text/plain": [
       "<Figure size 432x288 with 1 Axes>"
      ]
     },
     "metadata": {},
     "output_type": "display_data"
    }
   ],
   "source": [
    "plt.imshow(blank_image)\n",
    "plt.show()"
   ]
  },
  {
   "cell_type": "code",
   "execution_count": 53,
   "metadata": {},
   "outputs": [
    {
     "name": "stdout",
     "output_type": "stream",
     "text": [
      "37.718050519504494\n",
      "31.08505852813879\n",
      "17.309277886220436\n"
     ]
    }
   ],
   "source": [
    "#Haciendo lo mismo pero ahora para un limón sutil de clase \"maduro\"\n",
    "image = cv2.imread('maduro.jpg')\n",
    "r_channel = image.copy()\n",
    "g_channel = image.copy()\n",
    "b_channel = image.copy()\n",
    "\n",
    "#Get red channel\n",
    "r_channel[:, :, 0] = 0 \n",
    "r_channel[:, :, 1] = 0\n",
    "#Get gree channel\n",
    "g_channel[:, :, 0] = 0\n",
    "g_channel[:, :, 2] = 0\n",
    "#Get blue channel\n",
    "b_channel[:, :, 1] = 0\n",
    "b_channel[:, :, 2] = 0\n",
    "\n",
    "#Get the channels like arrays\n",
    "#R\n",
    "r_array = np.asarray(r_channel)\n",
    "#G\n",
    "g_array = np.asarray(g_channel)\n",
    "#B\n",
    "b_array = np.asarray(b_channel)\n",
    "\n",
    "#Remove zeros that represents black pixels / background\n",
    "#R\n",
    "r_filtered = np.ma.masked_where(r_array == 0, r_array)\n",
    "#G\n",
    "g_filtered = np.ma.masked_where(g_array == 0, g_array)\n",
    "#B\n",
    "b_filtered = np.ma.masked_where(b_array == 0, b_array)\n",
    "\n",
    "#Compute the Standard Deviation for the 3 channels:\n",
    "r_std = np.std(r_filtered, ddof=1)\n",
    "g_std = np.std(g_filtered, ddof=1)\n",
    "b_std = np.std(b_filtered, ddof=1)\n",
    "\n",
    "#Complete std  for the R,G AND B channel one Image:\n",
    "rgb_std = []\n",
    "rgb_std = [r_std,g_std,b_std]\n",
    "\n",
    "#Print color mean for R channel:\n",
    "print(rgb_std[0])\n",
    "#Print color mean for G channel:\n",
    "print(rgb_std[1])\n",
    "#Print color mean for B channel:\n",
    "print(rgb_std[2])"
   ]
  },
  {
   "cell_type": "code",
   "execution_count": 54,
   "metadata": {},
   "outputs": [
    {
     "data": {
      "image/png": "[encoded data removed]",
      "text/plain": [
       "<Figure size 432x288 with 1 Axes>"
      ]
     },
     "metadata": {},
     "output_type": "display_data"
    }
   ],
   "source": [
    "#Creando Imagen de color promedio:\n",
    "blank_image = np.zeros((100,100,3), np.uint8)\n",
    "blank_image[:,0:100//2] = (37,31,17) # (B, G, R)\n",
    "blank_image[:,100//2:100] = (37,31,17) \n",
    "plt.imshow(blank_image)\n",
    "plt.show()"
   ]
  },
  {
   "cell_type": "code",
   "execution_count": 55,
   "metadata": {
    "collapsed": true
   },
   "outputs": [],
   "source": [
    "#I hope add another statistical color feature operation inside of my Image Moment repository.."
   ]
  },
  {
   "cell_type": "code",
   "execution_count": null,
   "metadata": {
    "collapsed": true
   },
   "outputs": [],
   "source": []
  }
 ],
 "metadata": {
  "kernelspec": {
   "display_name": "Python 3",
   "language": "python",
   "name": "python3"
  },
  "language_info": {
   "codemirror_mode": {
    "name": "ipython",
    "version": 3
   },
   "file_extension": ".py",
   "mimetype": "text/x-python",
   "name": "python",
   "nbconvert_exporter": "python",
   "pygments_lexer": "ipython3",
   "version": "3.6.8"
  }
 },
 "nbformat": 4,
 "nbformat_minor": 2
}
