{
 "cells": [
  {
   "cell_type": "code",
   "execution_count": 5,
   "metadata": {
    "collapsed": true
   },
   "outputs": [],
   "source": [
    "#Momentos de Color en espacio de color HSV (canales H y V)\n",
    "#en imágenes segmentadas de Citrus Aurantifolia\n",
    "#Importar librerias necesarias\n",
    "import cv2\n",
    "import numpy as np\n",
    "from scipy.stats import skew\n",
    "import matplotlib.pyplot as plt"
   ]
  },
  {
   "cell_type": "code",
   "execution_count": 6,
   "metadata": {},
   "outputs": [],
   "source": [
    "#Leer imágen\n",
    "image = cv2.imread(\"maduro.png\")\n",
    "#Convertir a espacio de color hsv\n",
    "hsv = cv2.cvtColor(image, cv2.COLOR_BGR2HSV)"
   ]
  },
  {
   "cell_type": "code",
   "execution_count": 9,
   "metadata": {},
   "outputs": [
    {
     "data": {
      "image/png": "[encoded data removed]",
      "text/plain": [
       "<Figure size 432x288 with 1 Axes>"
      ]
     },
     "metadata": {},
     "output_type": "display_data"
    },
    {
     "data": {
      "image/png": "[encoded data removed]",
      "text/plain": [
       "<Figure size 432x288 with 1 Axes>"
      ]
     },
     "metadata": {},
     "output_type": "display_data"
    }
   ],
   "source": [
    "#Obtener canal H\n",
    "hsv_h = hsv.copy()\n",
    "hsv_h[:,:,1] = 0;\n",
    "hsv_h[:,:,2] = 0;\n",
    "plt.imshow(hsv_h)\n",
    "plt.show()\n",
    "kernel = np.ones((5,5), np.uint8)\n",
    "#Aplicar operación de erosión\n",
    "hsv_h = cv2.erode(hsv_h, kernel, iterations=1)\n",
    "plt.imshow(hsv_h)\n",
    "plt.show()\n",
    "#Obtener canal V\n",
    "hsv_v = hsv.copy()\n",
    "hsv_v[:,:,0] = 0;\n",
    "hsv_v[:,:,1] = 0;"
   ]
  },
  {
   "cell_type": "code",
   "execution_count": 11,
   "metadata": {
    "collapsed": true
   },
   "outputs": [],
   "source": [
    "#Obtener los canales como arreglos\n",
    "#H\n",
    "h_array = np.asarray(hsv_h)\n",
    "#V\n",
    "v_array = np.asarray(hsv_v)\n",
    "#Crear mascara para omitir el uso de pixeles con valor 0\n",
    "#H\n",
    "h_filtered = np.ma.masked_where(h_array == 0, h_array)\n",
    "#V\n",
    "v_filtered = np.ma.masked_where(v_array == 0, v_array)"
   ]
  },
  {
   "cell_type": "code",
   "execution_count": 15,
   "metadata": {
    "scrolled": true
   },
   "outputs": [
    {
     "name": "stdout",
     "output_type": "stream",
     "text": [
      "19.62355430183357\n",
      "124.83040488922842\n"
     ]
    }
   ],
   "source": [
    "print(np.mean(h_filtered))\n",
    "print(np.mean(v_filtered))"
   ]
  },
  {
   "cell_type": "code",
   "execution_count": 19,
   "metadata": {
    "collapsed": true
   },
   "outputs": [],
   "source": [
    "#Crear 3 funciones que retornen los 3 momentos de color de los componentes h y v de hsv\n",
    "def getMedia(h, v):\n",
    "    mh = np.mean(h)\n",
    "    mv = np.mean(v)\n",
    "    media = []\n",
    "    media.append(mh)\n",
    "    media.append(mv)\n",
    "    return (np.array(media))\n"
   ]
  },
  {
   "cell_type": "code",
   "execution_count": 37,
   "metadata": {},
   "outputs": [],
   "source": [
    "def getDevStd(h,v):\n",
    "    stdh = np.std(h)\n",
    "    stdv = np.std(v)\n",
    "    stdl = []\n",
    "    stdl.append(stdh)\n",
    "    stdl.append(stdv)\n",
    "    return np.array(stdl)\n"
   ]
  },
  {
   "cell_type": "code",
   "execution_count": 38,
   "metadata": {
    "collapsed": true
   },
   "outputs": [],
   "source": [
    "def getAsimetria(h,v):\n",
    "    #Convertir las matrices de los canales en arrays 1-D\n",
    "    #H\n",
    "    h_filtered = np.array(h)\n",
    "    h_filtered = h.ravel()\n",
    "    #remover ceros \"h\"\n",
    "    h_filtered = h_filtered[h_filtered != 0]\n",
    "    #V\n",
    "    v_filtered = np.array(v)\n",
    "    v_filtered = v.ravel()\n",
    "    #remover ceros \"v\"\n",
    "    v_filtered = v_filtered[v_filtered != 0]\n",
    "    #Computar asimetria/skewness\n",
    "    h_skew = skew(h_filtered)\n",
    "    v_skew = skew(v_filtered)\n",
    "    skewness = []\n",
    "    skewness.append(h_skew)\n",
    "    skewness.append(v_skew)\n",
    "    return np.array(skewness)"
   ]
  },
  {
   "cell_type": "code",
   "execution_count": 43,
   "metadata": {},
   "outputs": [
    {
     "name": "stdout",
     "output_type": "stream",
     "text": [
      "[ 19.6235543  124.83040489]\n",
      "[ 2.11896755 55.3420036 ]\n",
      "[4.19768474 4.37640794]\n"
     ]
    }
   ],
   "source": [
    "print(getMedia(h_filtered, v_filtered))\n",
    "print(getDevStd(h_filtered, v_filtered))\n",
    "print(getAsimetria(h_filtered, v_filtered))"
   ]
  },
  {
   "cell_type": "code",
   "execution_count": null,
   "metadata": {
    "collapsed": true
   },
   "outputs": [],
   "source": []
  }
 ],
 "metadata": {
  "kernelspec": {
   "display_name": "Python 3",
   "language": "python",
   "name": "python3"
  },
  "language_info": {
   "codemirror_mode": {
    "name": "ipython",
    "version": 3
   },
   "file_extension": ".py",
   "mimetype": "text/x-python",
   "name": "python",
   "nbconvert_exporter": "python",
   "pygments_lexer": "ipython3",
   "version": "3.6.8"
  }
 },
 "nbformat": 4,
 "nbformat_minor": 2
}
