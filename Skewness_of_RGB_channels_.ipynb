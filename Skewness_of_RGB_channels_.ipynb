{
 "cells": [
  {
   "cell_type": "code",
   "execution_count": 181,
   "metadata": {
    "collapsed": true
   },
   "outputs": [],
   "source": [
    "#Author: Freddy Alcarazo\n",
    "#About it: Get the Kurtosis of the three channels of one RGB image\n",
    "import cv2\n",
    "import numpy as np\n",
    "import matplotlib.pyplot as plt\n",
    "from scipy.stats import skew"
   ]
  },
  {
   "cell_type": "code",
   "execution_count": 182,
   "metadata": {},
   "outputs": [
    {
     "data": {
      "image/png": "[encoded data removed]",
      "text/plain": [
       "<Figure size 432x288 with 1 Axes>"
      ]
     },
     "metadata": {},
     "output_type": "display_data"
    }
   ],
   "source": [
    "image = cv2.imread('verde.jpg')\n",
    "plt.imshow(image)\n",
    "plt.show()\n",
    "r_channel = image.copy()\n",
    "g_channel = image.copy()\n",
    "b_channel = image.copy()"
   ]
  },
  {
   "cell_type": "code",
   "execution_count": 183,
   "metadata": {
    "collapsed": true
   },
   "outputs": [],
   "source": [
    "#Get red channel\n",
    "r_channel[:, :, 0] = 0 \n",
    "r_channel[:, :, 1] = 0\n",
    "#Get gree channel\n",
    "g_channel[:, :, 0] = 0\n",
    "g_channel[:, :, 2] = 0\n",
    "#Get blue channel\n",
    "b_channel[:, :, 1] = 0\n",
    "b_channel[:, :, 2] = 0"
   ]
  },
  {
   "cell_type": "code",
   "execution_count": 184,
   "metadata": {
    "collapsed": true
   },
   "outputs": [],
   "source": [
    "#Get the channels like arrays\n",
    "#R\n",
    "r_array = np.asarray(r_channel)\n",
    "#G\n",
    "g_array = np.asarray(g_channel)\n",
    "#B\n",
    "b_array = np.asarray(b_channel)"
   ]
  },
  {
   "cell_type": "code",
   "execution_count": 185,
   "metadata": {
    "collapsed": true
   },
   "outputs": [],
   "source": [
    "#Remove zeros that represents black pixels / background\n",
    "#R\n",
    "r_filtered = np.ma.masked_where(r_array == 0, r_array)\n",
    "#G\n",
    "g_filtered = np.ma.masked_where(g_array == 0, g_array)\n",
    "#B\n",
    "b_filtered = np.ma.masked_where(b_array == 0, b_array)"
   ]
  },
  {
   "cell_type": "code",
   "execution_count": 186,
   "metadata": {},
   "outputs": [],
   "source": [
    "#Convert the matrix to 1-D array\n",
    "#R\n",
    "r_filtered = np.array(r_filtered)\n",
    "r_filtered = r_filtered.ravel()\n",
    "r_filtered = r_filtered[r_filtered != 0] #remove zeros\n",
    "#G\n",
    "g_filtered = np.array(g_filtered)\n",
    "g_filtered = g_filtered.ravel()\n",
    "g_filtered = g_filtered[g_filtered != 0] #remove zeros\n",
    "\n",
    "#B\n",
    "b_filtered = np.array(b_filtered)\n",
    "b_filtered = b_filtered.ravel()\n",
    "b_filtered = b_filtered[b_filtered != 0] #remove zeros\n",
    "#Compute the Skewness for the 3 channels:\n",
    "\n",
    "r_skew = skew(flat_arr)\n",
    "g_skew = skew(g_filtered)\n",
    "b_skew = skew(b_filtered)"
   ]
  },
  {
   "cell_type": "code",
   "execution_count": 187,
   "metadata": {},
   "outputs": [],
   "source": [
    "#Complete Skewness for the R,G AND B channel one Image:\n",
    "rgb_kurt = []\n",
    "rgb_kurt = [r_skew,g_skew,b_skew]"
   ]
  },
  {
   "cell_type": "code",
   "execution_count": 188,
   "metadata": {},
   "outputs": [
    {
     "name": "stdout",
     "output_type": "stream",
     "text": [
      "0.23368294915670154\n",
      "-0.2930676984126344\n",
      "0.8314482387530002\n"
     ]
    }
   ],
   "source": [
    "#Print Skewness for R channel:\n",
    "print(rgb_kurt[0])\n",
    "#Print Skewness for G channel:\n",
    "print(rgb_kurt[1])\n",
    "#Print Skewness for B channel:\n",
    "print(rgb_kurt[2])"
   ]
  },
  {
   "cell_type": "code",
   "execution_count": null,
   "metadata": {
    "collapsed": true
   },
   "outputs": [],
   "source": []
  }
 ],
 "metadata": {
  "kernelspec": {
   "display_name": "Python 3",
   "language": "python",
   "name": "python3"
  },
  "language_info": {
   "codemirror_mode": {
    "name": "ipython",
    "version": 3
   },
   "file_extension": ".py",
   "mimetype": "text/x-python",
   "name": "python",
   "nbconvert_exporter": "python",
   "pygments_lexer": "ipython3",
   "version": "3.6.8"
  }
 },
 "nbformat": 4,
 "nbformat_minor": 2
}
