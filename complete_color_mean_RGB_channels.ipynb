{
 "cells": [
  {
   "cell_type": "code",
   "execution_count": 38,
   "metadata": {
    "collapsed": true
   },
   "outputs": [],
   "source": [
    "#Author: Freddy Alcarazo\n",
    "#About it: Get the color mean of the three channels of one RGB image\n",
    "import cv2\n",
    "import numpy as np\n",
    "import matplotlib.pyplot as plt"
   ]
  },
  {
   "cell_type": "code",
   "execution_count": 8,
   "metadata": {},
   "outputs": [],
   "source": [
    "image = cv2.imread('limon.jpg')\n",
    "r_channel = image.copy()\n",
    "g_channel = image.copy()\n",
    "b_channel = image.copy()"
   ]
  },
  {
   "cell_type": "code",
   "execution_count": 9,
   "metadata": {},
   "outputs": [],
   "source": [
    "#Get red channel\n",
    "r_channel[:, :, 0] = 0 \n",
    "r_channel[:, :, 1] = 0\n",
    "#Get gree channel\n",
    "g_channel[:, :, 0] = 0\n",
    "g_channel[:, :, 2] = 0\n",
    "#Get blue channel\n",
    "b_channel[:, :, 1] = 0\n",
    "b_channel[:, :, 2] = 0"
   ]
  },
  {
   "cell_type": "code",
   "execution_count": 11,
   "metadata": {
    "collapsed": true
   },
   "outputs": [],
   "source": [
    "#Get the channels like arrays\n",
    "#R\n",
    "r_array = np.asarray(r_channel)\n",
    "#G\n",
    "g_array = np.asarray(g_channel)\n",
    "#B\n",
    "b_array = np.asarray(b_channel)"
   ]
  },
  {
   "cell_type": "code",
   "execution_count": 12,
   "metadata": {
    "collapsed": true
   },
   "outputs": [],
   "source": [
    "#Remove zeros that represents black pixels / background\n",
    "#R\n",
    "r_filtered = np.ma.masked_where(r_array == 0, r_array)\n",
    "#G\n",
    "g_filtered = np.ma.masked_where(g_array == 0, g_array)\n",
    "#B\n",
    "b_filtered = np.ma.masked_where(b_array == 0, b_array)"
   ]
  },
  {
   "cell_type": "code",
   "execution_count": 21,
   "metadata": {},
   "outputs": [],
   "source": [
    "#Compute the mean for the 3 channels:\n",
    "r_mean = np.mean(r_filtered, axis=(0, 1))\n",
    "g_mean = np.mean(g_filtered, axis=(0, 1))\n",
    "b_mean = np.mean(b_filtered, axis=(0, 1))\n",
    "#r_mean[--, --, mean]\n",
    "#g_mean[--, mean, --]\n",
    "#b_mean[mean, --, --]"
   ]
  },
  {
   "cell_type": "code",
   "execution_count": 22,
   "metadata": {},
   "outputs": [],
   "source": [
    "#Complete color mean for the R,G AND B channel one Image:\n",
    "rgb_mean = []\n",
    "rgb_mean = [r_mean[2],g_mean[1],b_mean[0]]"
   ]
  },
  {
   "cell_type": "code",
   "execution_count": 23,
   "metadata": {},
   "outputs": [
    {
     "name": "stdout",
     "output_type": "stream",
     "text": [
      "29.685545873910815\n",
      "43.15732876712329\n",
      "7.745075710944232\n"
     ]
    }
   ],
   "source": [
    "#Print color mean for R channel:\n",
    "print(rgb_mean[0])\n",
    "#Print color mean for G channel:\n",
    "print(rgb_mean[1])\n",
    "#Print color mean for B channel:\n",
    "print(rgb_mean[2])"
   ]
  },
  {
   "cell_type": "code",
   "execution_count": 28,
   "metadata": {},
   "outputs": [],
   "source": [
    "#Now that we have the mean of the three RGB components.. we can create one RGB and see the average color:\n",
    "blank_image = np.zeros((100,100,3), np.uint8)\n",
    "blank_image[:,0:100//2] = (29,43,7) # (B, G, R)\n",
    "blank_image[:,100//2:100] = (29,43,7) "
   ]
  },
  {
   "cell_type": "code",
   "execution_count": 29,
   "metadata": {},
   "outputs": [
    {
     "data": {
      "image/png": "[encoded data removed]",
      "text/plain": [
       "<Figure size 432x288 with 1 Axes>"
      ]
     },
     "metadata": {},
     "output_type": "display_data"
    }
   ],
   "source": [
    "plt.imshow(blank_image)\n",
    "plt.show()"
   ]
  },
  {
   "cell_type": "code",
   "execution_count": 31,
   "metadata": {},
   "outputs": [],
   "source": [
    "#Haciendo lo mismo para un limon Sutil de clase Pinton:\n",
    "image = cv2.imread('pinton.jpg')\n",
    "r_channel = image.copy()\n",
    "g_channel = image.copy()\n",
    "b_channel = image.copy()"
   ]
  },
  {
   "cell_type": "code",
   "execution_count": 32,
   "metadata": {},
   "outputs": [
    {
     "name": "stdout",
     "output_type": "stream",
     "text": [
      "60.918734424097956\n",
      "67.32811994391112\n",
      "11.28615496280167\n"
     ]
    }
   ],
   "source": [
    "#Get red channel\n",
    "r_channel[:, :, 0] = 0 \n",
    "r_channel[:, :, 1] = 0\n",
    "#Get gree channel\n",
    "g_channel[:, :, 0] = 0\n",
    "g_channel[:, :, 2] = 0\n",
    "#Get blue channel\n",
    "b_channel[:, :, 1] = 0\n",
    "b_channel[:, :, 2] = 0\n",
    "\n",
    "#Get the channels like arrays\n",
    "#R\n",
    "r_array = np.asarray(r_channel)\n",
    "#G\n",
    "g_array = np.asarray(g_channel)\n",
    "#B\n",
    "b_array = np.asarray(b_channel)\n",
    "\n",
    "#Remove zeros that represents black pixels / background\n",
    "#R\n",
    "r_filtered = np.ma.masked_where(r_array == 0, r_array)\n",
    "#G\n",
    "g_filtered = np.ma.masked_where(g_array == 0, g_array)\n",
    "#B\n",
    "b_filtered = np.ma.masked_where(b_array == 0, b_array)\n",
    "\n",
    "#Compute the mean for the 3 channels:\n",
    "r_mean = np.mean(r_filtered, axis=(0, 1))\n",
    "g_mean = np.mean(g_filtered, axis=(0, 1))\n",
    "b_mean = np.mean(b_filtered, axis=(0, 1))\n",
    "#r_mean[--, --, mean]\n",
    "#g_mean[--, mean, --]\n",
    "#b_mean[mean, --, --]\n",
    "\n",
    "#Complete color mean for the R,G AND B channel one Image:\n",
    "rgb_mean = []\n",
    "rgb_mean = [r_mean[2],g_mean[1],b_mean[0]]\n",
    "\n",
    "#Print color mean for R channel:\n",
    "print(rgb_mean[0])\n",
    "#Print color mean for G channel:\n",
    "print(rgb_mean[1])\n",
    "#Print color mean for B channel:\n",
    "print(rgb_mean[2])"
   ]
  },
  {
   "cell_type": "code",
   "execution_count": 33,
   "metadata": {
    "collapsed": true
   },
   "outputs": [],
   "source": [
    "#Creando Imagen de color promedo:\n",
    "blank_image = np.zeros((100,100,3), np.uint8)\n",
    "blank_image[:,0:100//2] = (60,67,11) # (B, G, R)\n",
    "blank_image[:,100//2:100] = (60,67,11) "
   ]
  },
  {
   "cell_type": "code",
   "execution_count": 34,
   "metadata": {},
   "outputs": [
    {
     "data": {
      "image/png": "[encoded data removed]",
      "text/plain": [
       "<Figure size 432x288 with 1 Axes>"
      ]
     },
     "metadata": {},
     "output_type": "display_data"
    }
   ],
   "source": [
    "plt.imshow(blank_image)\n",
    "plt.show()"
   ]
  },
  {
   "cell_type": "code",
   "execution_count": 35,
   "metadata": {},
   "outputs": [
    {
     "name": "stdout",
     "output_type": "stream",
     "text": [
      "125.1154895774866\n",
      "103.8249936050058\n",
      "27.71884756748212\n"
     ]
    }
   ],
   "source": [
    "#Haciendo lo mismo pero ahora para un limón sutil de clase \"maduro\"\n",
    "#Haciendo lo mismo para un limon Sutil de clase Pinton:\n",
    "image = cv2.imread('maduro.jpg')\n",
    "r_channel = image.copy()\n",
    "g_channel = image.copy()\n",
    "b_channel = image.copy()\n",
    "\n",
    "#Get red channel\n",
    "r_channel[:, :, 0] = 0 \n",
    "r_channel[:, :, 1] = 0\n",
    "#Get gree channel\n",
    "g_channel[:, :, 0] = 0\n",
    "g_channel[:, :, 2] = 0\n",
    "#Get blue channel\n",
    "b_channel[:, :, 1] = 0\n",
    "b_channel[:, :, 2] = 0\n",
    "\n",
    "#Get the channels like arrays\n",
    "#R\n",
    "r_array = np.asarray(r_channel)\n",
    "#G\n",
    "g_array = np.asarray(g_channel)\n",
    "#B\n",
    "b_array = np.asarray(b_channel)\n",
    "\n",
    "#Remove zeros that represents black pixels / background\n",
    "#R\n",
    "r_filtered = np.ma.masked_where(r_array == 0, r_array)\n",
    "#G\n",
    "g_filtered = np.ma.masked_where(g_array == 0, g_array)\n",
    "#B\n",
    "b_filtered = np.ma.masked_where(b_array == 0, b_array)\n",
    "\n",
    "#Compute the mean for the 3 channels:\n",
    "r_mean = np.mean(r_filtered, axis=(0, 1))\n",
    "g_mean = np.mean(g_filtered, axis=(0, 1))\n",
    "b_mean = np.mean(b_filtered, axis=(0, 1))\n",
    "#r_mean[--, --, mean]\n",
    "#g_mean[--, mean, --]\n",
    "#b_mean[mean, --, --]\n",
    "\n",
    "#Complete color mean for the R,G AND B channel one Image:\n",
    "rgb_mean = []\n",
    "rgb_mean = [r_mean[2],g_mean[1],b_mean[0]]\n",
    "\n",
    "#Print color mean for R channel:\n",
    "print(rgb_mean[0])\n",
    "#Print color mean for G channel:\n",
    "print(rgb_mean[1])\n",
    "#Print color mean for B channel:\n",
    "print(rgb_mean[2])\n",
    "\n"
   ]
  },
  {
   "cell_type": "code",
   "execution_count": 36,
   "metadata": {},
   "outputs": [
    {
     "data": {
      "image/png": "[encoded data removed]",
      "text/plain": [
       "<Figure size 432x288 with 1 Axes>"
      ]
     },
     "metadata": {},
     "output_type": "display_data"
    }
   ],
   "source": [
    "#Creando Imagen de color promedio:\n",
    "blank_image = np.zeros((100,100,3), np.uint8)\n",
    "blank_image[:,0:100//2] = (125,103,27) # (B, G, R)\n",
    "blank_image[:,100//2:100] = (125,103,27) \n",
    "plt.imshow(blank_image)\n",
    "plt.show()"
   ]
  },
  {
   "cell_type": "code",
   "execution_count": 37,
   "metadata": {
    "collapsed": true
   },
   "outputs": [],
   "source": [
    "#I hope add another statistical color feature operation inside of my Image Moment repository.."
   ]
  },
  {
   "cell_type": "code",
   "execution_count": null,
   "metadata": {
    "collapsed": true
   },
   "outputs": [],
   "source": []
  }
 ],
 "metadata": {
  "kernelspec": {
   "display_name": "Python 3",
   "language": "python",
   "name": "python3"
  },
  "language_info": {
   "codemirror_mode": {
    "name": "ipython",
    "version": 3
   },
   "file_extension": ".py",
   "mimetype": "text/x-python",
   "name": "python",
   "nbconvert_exporter": "python",
   "pygments_lexer": "ipython3",
   "version": "3.6.8"
  }
 },
 "nbformat": 4,
 "nbformat_minor": 2
}
